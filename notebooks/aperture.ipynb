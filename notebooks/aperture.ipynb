{
 "cells": [
  {
   "cell_type": "code",
   "execution_count": 1,
   "metadata": {},
   "outputs": [],
   "source": [
    "import os\n",
    "os.chdir('/home/jovyan/work')\n",
    "import init\n",
    "import reading\n",
    "import do_calibration\n",
    "import aavso\n",
    "%load_ext autoreload\n",
    "%autoreload 2"
   ]
  },
  {
   "cell_type": "code",
   "execution_count": 3,
   "metadata": {},
   "outputs": [
    {
     "name": "stdout",
     "output_type": "stream",
     "text": [
      "Reference star: 58, Aperture: 2\n",
      "\n",
      "[58]\n"
     ]
    }
   ],
   "source": [
    "import re\n",
    "\n",
    "comparison_stars = []\n",
    "with open(init.basedir + 'munifind.txt', 'r') as fp:\n",
    "    for i, line in enumerate(fp):\n",
    "        if i == 1:\n",
    "            print(line)# 26th line\n",
    "            m = re.search('Reference star:\\s*(\\d+),', line)            \n",
    "            comparison_stars.append(int(m.group(1)))\n",
    "            break\n",
    "print(comparison_stars)"
   ]
  },
  {
   "cell_type": "code",
   "execution_count": null,
   "metadata": {},
   "outputs": [],
   "source": []
  }
 ],
 "metadata": {
  "kernelspec": {
   "display_name": "Python 3",
   "language": "python",
   "name": "python3"
  },
  "language_info": {
   "codemirror_mode": {
    "name": "ipython",
    "version": 3
   },
   "file_extension": ".py",
   "mimetype": "text/x-python",
   "name": "python",
   "nbconvert_exporter": "python",
   "pygments_lexer": "ipython3",
   "version": "3.6.5"
  }
 },
 "nbformat": 4,
 "nbformat_minor": 2
}
