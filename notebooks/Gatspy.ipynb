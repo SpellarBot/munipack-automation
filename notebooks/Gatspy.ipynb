{
 "cells": [
  {
   "cell_type": "code",
   "execution_count": 5,
   "metadata": {},
   "outputs": [],
   "source": [
    "from gatspy import datasets, periodic\n",
    "import astroML"
   ]
  },
  {
   "cell_type": "code",
   "execution_count": 10,
   "metadata": {},
   "outputs": [
    {
     "name": "stdout",
     "output_type": "stream",
     "text": [
      "['u' 'g' 'r' 'i' 'z' 'u' 'g' 'r' 'i' 'z' 'u' 'g' 'r' 'i' 'z' 'u' 'g' 'r'\n",
      " 'i' 'z' 'u' 'g' 'r' 'i' 'z' 'u' 'g' 'r' 'i' 'z' 'u' 'g' 'r' 'i' 'z' 'u'\n",
      " 'g' 'r' 'i' 'z' 'u' 'g' 'r' 'i' 'z' 'u' 'g' 'r' 'i' 'z' 'u' 'g' 'r' 'i'\n",
      " 'u' 'g' 'r' 'i' 'z' 'u' 'g' 'r' 'i' 'z' 'u' 'g' 'r' 'i' 'z' 'g' 'r' 'i'\n",
      " 'z' 'g' 'r' 'i' 'z' 'u' 'g' 'r' 'i' 'z' 'u' 'g' 'r' 'i' 'z' 'u' 'g' 'r'\n",
      " 'i' 'z' 'u' 'g' 'r' 'i' 'z' 'u' 'g' 'r' 'i' 'z' 'u' 'g' 'r' 'i' 'z' 'u'\n",
      " 'g' 'r' 'i' 'z' 'u' 'g' 'r' 'i' 'z' 'u' 'g' 'r' 'i' 'z' 'u' 'g' 'r' 'i'\n",
      " 'z' 'u' 'g' 'r' 'i' 'z' 'g' 'r' 'i' 'z' 'u' 'g' 'r' 'i' 'z' 'u' 'g' 'r'\n",
      " 'i' 'z' 'u' 'g' 'r' 'i' 'z' 'u' 'g' 'r' 'i' 'z' 'u' 'g' 'r' 'i' 'z' 'u'\n",
      " 'g' 'r' 'i' 'z' 'u' 'g' 'r' 'i' 'z' 'u' 'g' 'r' 'i' 'u' 'g' 'r' 'i' 'z'\n",
      " 'u' 'g' 'r' 'i' 'z' 'u' 'g' 'r' 'i' 'z' 'u' 'g' 'r' 'i' 'z' 'u' 'g' 'r'\n",
      " 'i' 'z' 'u' 'g' 'r' 'i' 'z' 'u' 'g' 'r' 'i' 'z' 'g' 'r' 'i' 'z' 'u' 'g'\n",
      " 'r' 'i' 'z' 'u' 'g' 'r' 'i' 'z' 'u' 'g' 'r' 'i' 'z' 'u' 'g' 'r' 'i' 'z'\n",
      " 'u' 'g' 'r' 'i' 'z' 'u' 'g' 'r' 'i' 'z' 'u' 'g' 'r' 'i' 'z' 'g' 'r' 'i'\n",
      " 'z' 'g' 'r' 'i' 'z' 'u' 'g' 'r' 'i' 'z' 'u' 'g' 'r' 'i' 'z' 'u' 'g' 'r'\n",
      " 'i' 'z' 'u' 'g' 'r' 'i' 'z' 'g' 'r' 'i' 'z' 'u' 'g' 'r' 'i' 'z' 'u' 'g'\n",
      " 'r' 'i' 'z']\n"
     ]
    }
   ],
   "source": [
    "rrlyrae = datasets.fetch_rrlyrae()\n",
    "lcid = rrlyrae.ids[0]\n",
    "t, mag, dmag, filts = rrlyrae.get_lightcurve(lcid)\n",
    "print(filts)\n",
    "mask = (filts == 'r')\n",
    "t_r, mag_r, dmag_r = t[mask], mag[mask], dmag[mask]"
   ]
  },
  {
   "cell_type": "code",
   "execution_count": 11,
   "metadata": {},
   "outputs": [
    {
     "name": "stdout",
     "output_type": "stream",
     "text": [
      "[51081.346189 51819.417297 52288.076401 52551.349693 52558.382568\n",
      " 52576.215619 52577.270074 52585.217152 52910.354031 52935.281199\n",
      " 52963.204274 52971.19519  53351.126577 53352.175341 53622.383635\n",
      " 53634.333105 53638.374441 53640.338478 53655.31065  53664.335605\n",
      " 53669.294849 53671.379608 53674.279086 53676.368551 53679.340449\n",
      " 53681.331962 53685.291018 53694.304896 53697.288987 53700.287944\n",
      " 53705.274614 53975.359621 53990.372432 53994.382617 53996.366364\n",
      " 54010.32046  54012.313323 54020.319307 54024.400877 54028.38918\n",
      " 54030.312842 54035.388616 54037.294082 54040.308583 54049.335045\n",
      " 54053.299342 54056.30102  54059.295293 54061.3064   54062.300189\n",
      " 54068.280766 54357.338497 54359.370217 54362.388309 54376.383394\n",
      " 54382.368514 54385.386314 54390.379228 54391.387666 54402.379979]\n",
      "Finding optimal frequency:\n",
      " - Estimated peak width = 0.00189\n",
      " - Using 5 steps per peak; omega_step = 0.000378\n",
      " - User-specified period range:  0.2 to 1.2\n",
      " - Computing periods at 69190 steps\n",
      "Zooming-in on 5 candidate peaks:\n",
      " - Computing periods at 995 steps\n"
     ]
    }
   ],
   "source": [
    "model = periodic.LombScargleFast(fit_period=True)\n",
    "model.optimizer.period_range = (0.2, 1.2)\n",
    "print(t_r)\n",
    "model.fit(t_r, mag_r, dmag_r);"
   ]
  },
  {
   "cell_type": "code",
   "execution_count": 8,
   "metadata": {},
   "outputs": [
    {
     "data": {
      "text/plain": [
       "0.6143166121167521"
      ]
     },
     "execution_count": 8,
     "metadata": {},
     "output_type": "execute_result"
    }
   ],
   "source": [
    "model.best_period"
   ]
  },
  {
   "cell_type": "code",
   "execution_count": 10,
   "metadata": {},
   "outputs": [
    {
     "data": {
      "text/plain": [
       "0.6143183"
      ]
     },
     "execution_count": 10,
     "metadata": {},
     "output_type": "execute_result"
    }
   ],
   "source": [
    "metadata = rrlyrae.get_metadata(lcid)\n",
    "true_period = metadata['P']\n",
    "true_period"
   ]
  },
  {
   "cell_type": "code",
   "execution_count": 21,
   "metadata": {},
   "outputs": [
    {
     "name": "stdout",
     "output_type": "stream",
     "text": [
      "Finding optimal frequency:\n",
      " - Estimated peak width = 0.00189\n",
      " - Using 5 steps per peak; omega_step = 0.000378\n",
      " - User-specified period range:  0.2 to 1.2\n",
      " - Computing periods at 69190 steps\n",
      "Zooming-in on 5 candidate peaks:\n",
      " - Computing periods at 995 steps\n"
     ]
    },
    {
     "data": {
      "image/png": "[encoded data removed]",
      "text/plain": [
       "<matplotlib.figure.Figure at 0x7fa7ddbb08d0>"
      ]
     },
     "metadata": {},
     "output_type": "display_data"
    }
   ],
   "source": [
    "import numpy as np\n",
    "import matplotlib.pyplot as plt\n",
    "import matplotlib as mpl\n",
    "\n",
    "mpl.style.use('ggplot')\n",
    "#mpl.rc('axes', prop_cycle=[\"#4C72B0\", \"#55A868\", \"#C44E52\",\n",
    "#                            \"#8172B2\", \"#CCB974\"])\n",
    "\n",
    "# Fetch the RRLyrae data\n",
    "from gatspy import datasets, periodic\n",
    "rrlyrae = datasets.fetch_rrlyrae()\n",
    "\n",
    "# Get data from first lightcurve\n",
    "lcid = rrlyrae.ids[0]\n",
    "t, mag, dmag, filts = rrlyrae.get_lightcurve(lcid)\n",
    "mask = (filts == 'r')\n",
    "t_r, mag_r, dmag_r = t[mask], mag[mask], dmag[mask]\n",
    "\n",
    "# Fit the Lomb-Scargle model\n",
    "model = periodic.LombScargleFast()\n",
    "model.fit(t_r, mag_r, dmag_r)\n",
    "model.optimizer.period_range = (0.2, 1.2)\n",
    "\n",
    "# Predict on a regular phase grid\n",
    "period = model.best_period\n",
    "tfit = np.linspace(0, period, 1000)\n",
    "magfit = model.predict(tfit)\n",
    "\n",
    "# Plot the results\n",
    "phase = (t_r / period) % 1\n",
    "phasefit = (tfit / period)\n",
    "\n",
    "fig, ax = plt.subplots()\n",
    "ax.errorbar(phase, mag_r, dmag_r, fmt='o')\n",
    "ax.plot(phasefit, magfit, '-', color='gray')\n",
    "ax.set(xlabel='phase', ylabel='r magnitude')\n",
    "ax.invert_yaxis()"
   ]
  },
  {
   "cell_type": "code",
   "execution_count": null,
   "metadata": {},
   "outputs": [],
   "source": []
  }
 ],
 "metadata": {
  "kernelspec": {
   "display_name": "Python 3",
   "language": "python",
   "name": "python3"
  },
  "language_info": {
   "codemirror_mode": {
    "name": "ipython",
    "version": 3
   },
   "file_extension": ".py",
   "mimetype": "text/x-python",
   "name": "python",
   "nbconvert_exporter": "python",
   "pygments_lexer": "ipython3",
   "version": "3.6.3"
  }
 },
 "nbformat": 4,
 "nbformat_minor": 2
}
