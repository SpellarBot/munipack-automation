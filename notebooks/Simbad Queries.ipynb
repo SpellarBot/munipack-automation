{
 "cells": [
  {
   "cell_type": "code",
   "execution_count": 2,
   "metadata": {},
   "outputs": [],
   "source": [
    "from astroquery.simbad import Simbad"
   ]
  },
  {
   "cell_type": "code",
   "execution_count": 13,
   "metadata": {},
   "outputs": [
    {
     "name": "stdout",
     "output_type": "stream",
     "text": [
      "--NOTES--\n",
      "\n",
      "1. The parameter filtername must correspond to an existing filter. Filters include: B,V,R,I,J,K.  They are checked by SIMBAD but not astroquery.simbad\n",
      "\n",
      "2. Fields beginning with rvz display the data as it is in the database. Fields beginning with rv force the display as a radial velocity. Fields beginning with z force the display as a redshift\n",
      "\n",
      "3. For each measurement catalog, the VOTable contains all fields of the first measurement. When applicable, the first measurement is the mean one. \n",
      "\n",
      "Available VOTABLE fields:\n",
      "\n",
      "bibcodelist(y1-y2)\n",
      "cel\n",
      "cl.g\n",
      "coo(opt)\n",
      "coo_bibcode\n",
      "coo_err_angle\n",
      "coo_err_maja\n",
      "coo_err_mina\n",
      "coo_qual\n",
      "coo_wavelength\n",
      "coordinates\n",
      "dec(opt)\n",
      "dec_prec\n",
      "diameter\n",
      "dim\n",
      "dim_angle\n",
      "dim_bibcode\n",
      "dim_incl\n",
      "dim_majaxis\n",
      "dim_minaxis\n",
      "dim_qual\n",
      "dim_wavelength\n",
      "dimensions\n",
      "dist\n",
      "distance\n",
      "einstein\n",
      "fe_h\n",
      "flux(filtername)\n",
      "flux_bibcode(filtername)\n",
      "flux_error(filtername)\n",
      "flux_name(filtername)\n",
      "flux_qual(filtername)\n",
      "flux_system(filtername)\n",
      "flux_unit(filtername)\n",
      "fluxdata(filtername)\n",
      "gcrv\n",
      "gen\n",
      "gj\n",
      "hbet\n",
      "hbet1\n",
      "hgam\n",
      "id(opt)\n",
      "ids\n",
      "iras\n",
      "irc\n",
      "iso\n",
      "iue\n",
      "jp11\n",
      "main_id\n",
      "measurements\n",
      "mesplx\n",
      "mespm\n",
      "mk\n",
      "morphtype\n",
      "mt\n",
      "mt_bibcode\n",
      "mt_qual\n",
      "orv\n",
      "otype\n",
      "otype(opt)\n",
      "parallax\n",
      "plx\n",
      "plx_bibcode\n",
      "plx_error\n",
      "plx_prec\n",
      "plx_qual\n",
      "pm\n",
      "pm_bibcode\n",
      "pm_err_angle\n",
      "pm_err_maja\n",
      "pm_err_mina\n",
      "pm_qual\n",
      "pmdec\n",
      "pmdec_prec\n",
      "pmra\n",
      "pmra_prec\n",
      "pos\n",
      "posa\n",
      "propermotions\n",
      "ra(opt)\n",
      "ra_prec\n",
      "rot\n",
      "rv_value\n",
      "rvel\n",
      "rvz_bibcode\n",
      "rvz_error\n",
      "rvz_qual\n",
      "rvz_radvel\n",
      "rvz_type\n",
      "rvz_wavelength\n",
      "sao\n",
      "sp\n",
      "sp_bibcode\n",
      "sp_nature\n",
      "sp_qual\n",
      "sptype\n",
      "td1\n",
      "ubv\n",
      "uvby\n",
      "uvby1\n",
      "v*\n",
      "velocity\n",
      "xmm\n",
      "z\n",
      "z_value\n",
      "ze\n",
      "For more information on a field:\n",
      "Simbad.get_field_description ('field_name') \n",
      "Currently active VOTABLE fields:\n",
      " ['main_id', 'coordinates']\n"
     ]
    },
    {
     "name": "stderr",
     "output_type": "stream",
     "text": [
      "/opt/conda/lib/python3.6/site-packages/astroquery/utils/commons.py:162: UserWarning: Coordinate string is being interpreted as an ICRS coordinate.\n",
      "  warnings.warn(\"Coordinate string is being interpreted as an \"\n"
     ]
    },
    {
     "name": "stdout",
     "output_type": "stream",
     "text": [
      "       MAIN_ID              RA           DEC      ... GEN_Rem GEN_bibcode\n",
      "                         \"h:m:s\"       \"d:m:s\"    ...                    \n",
      "--------------------- ------------- ------------- ... ------- -----------\n",
      "            HD  38875 05 34 59.7289 -80 51 09.090 ...                    \n",
      "       TYC 9390-799-1 05 33 58.2263 -80 50 18.594 ...                    \n",
      "       TYC 9390-646-1 05 35 02.7937 -81 00 04.241 ...                    \n",
      "         LEDA  226495    05 33 37.5     -80 59 07 ...                    \n",
      "       TYC 9390-629-1 05 35 20.4596 -81 00 30.606 ...                    \n",
      "       TYC 9390-857-1 05 30 58.9175 -80 54 39.542 ...                    \n",
      "      TYC 9390-1171-1 05 37 35.9746 -80 42 56.764 ...                    \n",
      "       TYC 9390-654-1 05 35 27.4155 -80 41 20.252 ...                    \n",
      "       TYC 9390-656-1 05 30 43.7796 -80 51 57.183 ...                    \n",
      "      UCAC2    270559  05 30 39.716  -80 48 17.97 ...                    \n",
      "                  ...           ...           ... ...     ...         ...\n",
      "   NAME Wool LMC I-74       04 50.9        -85 43 ...                    \n",
      "      UCAC2    489064  04 14 07.235  -77 32 48.39 ...                    \n",
      "       TYC 9491-393-1 03 22 45.2356 -82 47 38.300 ...                    \n",
      "         LEDA  238355    06 39 57.8     -76 54 42 ...                    \n",
      "         LEDA  219225    03 45 58.3     -84 37 00 ...                    \n",
      "         LEDA  241205    04 59 49.6     -76 10 31 ...                    \n",
      "1RXS J051653.8-755700  05 16 53.801  -75 57 00.00 ...                    \n",
      "          CD-79   296 07 36 08.4189 -80 05 10.812 ...                    \n",
      "            ESO  15-4  03 57 03.179  -78 24 32.58 ...                    \n",
      "      TYC 9375-1266-1  03 26 28.592  -81 02 49.16 ...                    \n",
      "Length = 6579 rows\n"
     ]
    }
   ],
   "source": [
    "#Simbad.list_votable_fields()\n",
    "Simbad.add_votable_fields('gen')\n",
    "result_table = Simbad.query_region(\"05h35m17.3s -05h23m28s\", radius='5d0m0s')\n",
    "print(result_table)"
   ]
  },
  {
   "cell_type": "code",
   "execution_count": 14,
   "metadata": {},
   "outputs": [
    {
     "name": "stdout",
     "output_type": "stream",
     "text": [
      "<class 'astropy.table.table.Table'>\n"
     ]
    },
    {
     "data": {
      "text/html": [
       "<i>Row index=0 masked=True</i>\n",
       "<table id=\"table139651738777584\">\n",
       "<thead><tr><th>MAIN_ID</th><th>RA</th><th>DEC</th><th>RA_PREC</th><th>DEC_PREC</th><th>COO_ERR_MAJA</th><th>COO_ERR_MINA</th><th>COO_ERR_ANGLE</th><th>COO_QUAL</th><th>COO_WAVELENGTH</th><th>COO_BIBCODE</th><th>GEN_U_B</th><th>GEN_V_B</th><th>GEN_B1_B</th><th>GEN_B2_B</th><th>GEN_V1_B</th><th>GEN_G_B</th><th>GEN_Wt_colind</th><th>GEN_me_colind</th><th>GEN_Vmag</th><th>GEN_Wt_Vmag</th><th>GEN_me_Vmag</th><th>GEN_Rem</th><th>GEN_bibcode</th></tr></thead>\n",
       "<thead><tr><th></th><th>&quot;h:m:s&quot;</th><th>&quot;d:m:s&quot;</th><th></th><th></th><th>mas</th><th>mas</th><th>deg</th><th></th><th></th><th></th><th>mag</th><th>mag</th><th>mag</th><th>mag</th><th>mag</th><th>mag</th><th></th><th>mag</th><th>mag</th><th></th><th>mag</th><th></th><th></th></tr></thead>\n",
       "<thead><tr><th>object</th><th>str13</th><th>str13</th><th>int16</th><th>int16</th><th>float32</th><th>float32</th><th>int16</th><th>str1</th><th>str1</th><th>object</th><th>float32</th><th>float32</th><th>float32</th><th>float32</th><th>float32</th><th>float32</th><th>int32</th><th>float32</th><th>float32</th><th>int32</th><th>float32</th><th>object</th><th>str19</th></tr></thead>\n",
       "<tr><td>HD  38875</td><td>05 34 59.7289</td><td>-80 51 09.090</td><td>8</td><td>8</td><td>0.238</td><td>0.208</td><td>0</td><td>A</td><td>O</td><td>2016A&amp;A...595A...2G</td><td>--</td><td>--</td><td>--</td><td>--</td><td>--</td><td>--</td><td>0</td><td>--</td><td>--</td><td>0</td><td>--</td><td></td><td></td></tr>\n",
       "</table>"
      ],
      "text/plain": [
       "<Row index=0 masked=True>\n",
       " MAIN_ID        RA           DEC      RA_PREC DEC_PREC COO_ERR_MAJA COO_ERR_MINA COO_ERR_ANGLE COO_QUAL COO_WAVELENGTH     COO_BIBCODE     GEN_U_B GEN_V_B GEN_B1_B GEN_B2_B GEN_V1_B GEN_G_B GEN_Wt_colind GEN_me_colind GEN_Vmag GEN_Wt_Vmag GEN_me_Vmag GEN_Rem GEN_bibcode\n",
       "             \"h:m:s\"       \"d:m:s\"                         mas          mas           deg                                                    mag     mag     mag      mag      mag      mag                      mag        mag                    mag                        \n",
       "  object      str13         str13      int16   int16     float32      float32        int16       str1        str1             object       float32 float32 float32  float32  float32  float32     int32        float32    float32     int32      float32    object    str19   \n",
       "--------- ------------- ------------- ------- -------- ------------ ------------ ------------- -------- -------------- ------------------- ------- ------- -------- -------- -------- ------- ------------- ------------- -------- ----------- ----------- ------- -----------\n",
       "HD  38875 05 34 59.7289 -80 51 09.090       8        8        0.238        0.208             0        A              O 2016A&A...595A...2G      --      --       --       --       --      --             0            --       --           0          --                    "
      ]
     },
     "execution_count": 14,
     "metadata": {},
     "output_type": "execute_result"
    }
   ],
   "source": [
    "print(type(result_table))\n",
    "\n",
    "result_table[0]\n",
    "#Simbad.list_votable_fields()"
   ]
  },
  {
   "cell_type": "code",
   "execution_count": null,
   "metadata": {},
   "outputs": [],
   "source": []
  }
 ],
 "metadata": {
  "kernelspec": {
   "display_name": "Python 3",
   "language": "python",
   "name": "python3"
  },
  "language_info": {
   "codemirror_mode": {
    "name": "ipython",
    "version": 3
   },
   "file_extension": ".py",
   "mimetype": "text/x-python",
   "name": "python",
   "nbconvert_exporter": "python",
   "pygments_lexer": "ipython3",
   "version": "3.6.5"
  }
 },
 "nbformat": 4,
 "nbformat_minor": 2
}
