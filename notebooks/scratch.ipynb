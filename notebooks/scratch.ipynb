{
 "cells": [
  {
   "cell_type": "code",
   "execution_count": 2,
   "metadata": {},
   "outputs": [],
   "source": [
    "import os\n",
    "os.chdir('/home/jovyan/work')\n",
    "import init\n",
    "import reading\n",
    "import do_calibration\n",
    "import aavso\n",
    "%load_ext autoreload\n",
    "%autoreload 2"
   ]
  },
  {
   "cell_type": "code",
   "execution_count": 13,
   "metadata": {},
   "outputs": [
    {
     "name": "stdout",
     "output_type": "stream",
     "text": [
      "Reference star: 58, Aperture: 2\n",
      "\n",
      "[58]\n"
     ]
    }
   ],
   "source": [
    "import re\n",
    "\n",
    "comparison_stars = []\n",
    "with open(init.basedir + 'munifind.txt', 'r') as fp:\n",
    "    for i, line in enumerate(fp):\n",
    "        if i == 1:\n",
    "            print(line)# 26th line\n",
    "            m = re.search('Reference star:\\s*(\\d+),', line)            \n",
    "            comparison_stars.append(int(m.group(1)))\n",
    "            break\n",
    "print(comparison_stars)"
   ]
  },
  {
   "cell_type": "code",
   "execution_count": 25,
   "metadata": {},
   "outputs": [],
   "source": [
    "from io import StringIO\n",
    "text = StringIO(\"NAME,DATE,MAG,MERR,FILT,TRANS,MTYPE,CNAME,CMAG,KNAME,KMAG,AMASS,GROUP,CHART,NOTES\\nSS CYG,2450702.1234,11.235,0.003,B,NO,STD,ENSEMBLE,na,105,10.593,1.561,1,X16382L,na\\nSS CYG,2450702.1254,11.135,0.003,V,NO,STD,ENSEMBLE,na,105,10.492,1.563,1,X16382L,na\\n SS CYG,2450702.1274,11.035,0.003,R,NO,STD,ENSEMBLE,na,105,10.398,1.564,1,X16382L,na\\n SS CYG,2450702.1294,10.935,0.003,I,NO,STD,ENSEMBLE,na,105,10.295,1.567,1,X16382L,na\\n SS CYG,2450702.2234,11.244,0.003,B,NO,STD,ENSEMBLE,na,105,10.590,1.661,2,X16382L,na\\n SS CYG,2450702.2254,11.166,0.003,V,NO,STD,ENSEMBLE,na,105,10.497,1.663,2,X16382L,na\\n SS CYG,2450702.2274,11.030,0.003,R,NO,STD,ENSEMBLE,na,105,10.402,1.664,2,X16382L,na\\n SS CYG,2450702.2294,10.927,0.003,I,NO,STD,ENSEMBLE,na,105,10.292,1.667,2,X16382L,na\\n\")"
   ]
  },
  {
   "cell_type": "code",
   "execution_count": 26,
   "metadata": {},
   "outputs": [
    {
     "name": "stdout",
     "output_type": "stream",
     "text": [
      "      NAME          DATE     MAG   MERR FILT TRANS MTYPE     CNAME CMAG  \\\n",
      "0   SS CYG  2.450702e+06  11.235  0.003    B    NO   STD  ENSEMBLE   na   \n",
      "1   SS CYG  2.450702e+06  11.135  0.003    V    NO   STD  ENSEMBLE   na   \n",
      "2   SS CYG  2.450702e+06  11.035  0.003    R    NO   STD  ENSEMBLE   na   \n",
      "3   SS CYG  2.450702e+06  10.935  0.003    I    NO   STD  ENSEMBLE   na   \n",
      "4   SS CYG  2.450702e+06  11.244  0.003    B    NO   STD  ENSEMBLE   na   \n",
      "5   SS CYG  2.450702e+06  11.166  0.003    V    NO   STD  ENSEMBLE   na   \n",
      "6   SS CYG  2.450702e+06  11.030  0.003    R    NO   STD  ENSEMBLE   na   \n",
      "7   SS CYG  2.450702e+06  10.927  0.003    I    NO   STD  ENSEMBLE   na   \n",
      "\n",
      "   KNAME    KMAG  AMASS  GROUP    CHART NOTES  \n",
      "0    105  10.593  1.561      1  X16382L    na  \n",
      "1    105  10.492  1.563      1  X16382L    na  \n",
      "2    105  10.398  1.564      1  X16382L    na  \n",
      "3    105  10.295  1.567      1  X16382L    na  \n",
      "4    105  10.590  1.661      2  X16382L    na  \n",
      "5    105  10.497  1.663      2  X16382L    na  \n",
      "6    105  10.402  1.664      2  X16382L    na  \n",
      "7    105  10.292  1.667      2  X16382L    na  \n"
     ]
    }
   ],
   "source": [
    "import pandas as pd\n",
    "\n",
    "df = pd.read_csv(text,',')\n",
    "print(df)"
   ]
  },
  {
   "cell_type": "code",
   "execution_count": 43,
   "metadata": {},
   "outputs": [
    {
     "ename": "KeyError",
     "evalue": "'magnitude_error'",
     "output_type": "error",
     "traceback": [
      "\u001b[0;31m---------------------------------------------------------------------------\u001b[0m",
      "\u001b[0;31mKeyError\u001b[0m                                  Traceback (most recent call last)",
      "\u001b[0;32m<ipython-input-43-9a6e98dc314a>\u001b[0m in \u001b[0;36m<module>\u001b[0;34m()\u001b[0m\n\u001b[1;32m      9\u001b[0m     \u001b[0;34m'comp2'\u001b[0m\u001b[0;34m:\u001b[0m \u001b[0;34m'113'\u001b[0m\u001b[0;34m,\u001b[0m\u001b[0;34m\u001b[0m\u001b[0m\n\u001b[1;32m     10\u001b[0m     \u001b[0;34m'chart'\u001b[0m\u001b[0;34m:\u001b[0m \u001b[0;34m'070613'\u001b[0m\u001b[0;34m,\u001b[0m\u001b[0;34m\u001b[0m\u001b[0m\n\u001b[0;32m---> 11\u001b[0;31m     \u001b[0;34m'notes'\u001b[0m\u001b[0;34m:\u001b[0m \u001b[0;34m'This is a test'\u001b[0m\u001b[0;34m,\u001b[0m\u001b[0;34m\u001b[0m\u001b[0m\n\u001b[0m\u001b[1;32m     12\u001b[0m     })\n",
      "\u001b[0;32m~/work/aavso.py\u001b[0m in \u001b[0;36mwriterow\u001b[0;34m(self, observation_data)\u001b[0m\n\u001b[1;32m     81\u001b[0m             \u001b[0mrow\u001b[0m \u001b[0;34m=\u001b[0m \u001b[0mobservation_data\u001b[0m\u001b[0;34m\u001b[0m\u001b[0m\n\u001b[1;32m     82\u001b[0m         \u001b[0;32melse\u001b[0m\u001b[0;34m:\u001b[0m\u001b[0;34m\u001b[0m\u001b[0m\n\u001b[0;32m---> 83\u001b[0;31m             \u001b[0mrow\u001b[0m \u001b[0;34m=\u001b[0m \u001b[0mself\u001b[0m\u001b[0;34m.\u001b[0m\u001b[0mdict_to_row\u001b[0m\u001b[0;34m(\u001b[0m\u001b[0mobservation_data\u001b[0m\u001b[0;34m)\u001b[0m\u001b[0;34m\u001b[0m\u001b[0m\n\u001b[0m\u001b[1;32m     84\u001b[0m         \u001b[0mself\u001b[0m\u001b[0;34m.\u001b[0m\u001b[0mwriter\u001b[0m\u001b[0;34m.\u001b[0m\u001b[0mwriterow\u001b[0m\u001b[0;34m(\u001b[0m\u001b[0mrow\u001b[0m\u001b[0;34m)\u001b[0m\u001b[0;34m\u001b[0m\u001b[0m\n\u001b[1;32m     85\u001b[0m \u001b[0;34m\u001b[0m\u001b[0m\n",
      "\u001b[0;32m~/work/aavso.py\u001b[0m in \u001b[0;36mdict_to_row\u001b[0;34m(cls, observation_data)\u001b[0m\n\u001b[1;32m     99\u001b[0m         \u001b[0mrow\u001b[0m\u001b[0;34m.\u001b[0m\u001b[0mappend\u001b[0m\u001b[0;34m(\u001b[0m\u001b[0mobservation_data\u001b[0m\u001b[0;34m[\u001b[0m\u001b[0;34m'date'\u001b[0m\u001b[0;34m]\u001b[0m\u001b[0;34m)\u001b[0m\u001b[0;34m\u001b[0m\u001b[0m\n\u001b[1;32m    100\u001b[0m         \u001b[0mrow\u001b[0m\u001b[0;34m.\u001b[0m\u001b[0mappend\u001b[0m\u001b[0;34m(\u001b[0m\u001b[0mobservation_data\u001b[0m\u001b[0;34m[\u001b[0m\u001b[0;34m'magnitude'\u001b[0m\u001b[0;34m]\u001b[0m\u001b[0;34m)\u001b[0m\u001b[0;34m\u001b[0m\u001b[0m\n\u001b[0;32m--> 101\u001b[0;31m         \u001b[0mrow\u001b[0m\u001b[0;34m.\u001b[0m\u001b[0mappend\u001b[0m\u001b[0;34m(\u001b[0m\u001b[0mobservation_data\u001b[0m\u001b[0;34m[\u001b[0m\u001b[0;34m'magnitude_error'\u001b[0m\u001b[0;34m]\u001b[0m\u001b[0;34m)\u001b[0m\u001b[0;34m\u001b[0m\u001b[0m\n\u001b[0m\u001b[1;32m    102\u001b[0m         \u001b[0mrow\u001b[0m\u001b[0;34m.\u001b[0m\u001b[0mappend\u001b[0m\u001b[0;34m(\u001b[0m\u001b[0mobservation_data\u001b[0m\u001b[0;34m[\u001b[0m\u001b[0;34m'filter'\u001b[0m\u001b[0;34m]\u001b[0m\u001b[0;34m)\u001b[0m\u001b[0;34m\u001b[0m\u001b[0m\n\u001b[1;32m    103\u001b[0m         \u001b[0mrow\u001b[0m\u001b[0;34m.\u001b[0m\u001b[0mappend\u001b[0m\u001b[0;34m(\u001b[0m\u001b[0mobservation_data\u001b[0m\u001b[0;34m[\u001b[0m\u001b[0;34m'transformed'\u001b[0m\u001b[0;34m]\u001b[0m\u001b[0;34m)\u001b[0m\u001b[0;34m\u001b[0m\u001b[0m\n",
      "\u001b[0;31mKeyError\u001b[0m: 'magnitude_error'"
     ]
    }
   ],
   "source": [
    "#         row.append(observation_data['name'])\n",
    "#         row.append(observation_data['date'])\n",
    "#         row.append(observation_data['magnitude'])\n",
    "#         row.append(observation_data['magnitude_error'])\n",
    "#         row.append(observation_data['filter'])\n",
    "#         row.append(observation_data['transformed'])\n",
    "#         row.append(observation_data['magnitude_type'])\n",
    "#         row.append(observation_data.get('comparison_name', 'na'))\n",
    "#         row.append(observation_data.get('comparison_magnitude', 'na'))\n",
    "#         row.append(observation_data.get('check_name', 'na'))\n",
    "#         row.append(observation_data.get('check_magnitude', 'na'))\n",
    "#         row.append(observation_data.get('airmass', 'na'))\n",
    "#         row.append(observation_data.get('group', 'na'))\n",
    "#         row.append(observation_data.get('chart', 'na'))\n",
    "#         row.append(observation_data.get('notes', 'na'))\n",
    "\n",
    "with open('data.txt', 'w') as fp:\n",
    "    writer = aavso.ExtendedFormatWriter(fp, 'RMH',)\n",
    "    writer.writerow({\n",
    "    'name': 'SS CYG',\n",
    "    'date': '2450702.1234',\n",
    "    'magnitude': '<11.1',\n",
    "    'comment_code': '',\n",
    "    'comp1': '110',\n",
    "    'comp2': '113',\n",
    "    'chart': '070613',\n",
    "    'notes': 'This is a test',\n",
    "    })"
   ]
  },
  {
   "cell_type": "markdown",
   "metadata": {},
   "source": [
    "## Read .pht binary file"
   ]
  },
  {
   "cell_type": "code",
   "execution_count": 40,
   "metadata": {},
   "outputs": [
    {
     "name": "stdout",
     "output_type": "stream",
     "text": [
      "576 1765980\n",
      "matched? 0, nr: 0\n",
      "b'C-Munipack photometry file\\r\\n'\n",
      "4\n",
      "540\n",
      "1094893387\n",
      "1365\n",
      "1365\n",
      "2457238.712627315\n",
      "b'V                                                                     '\n",
      "30.0\n",
      "-25.0\n",
      "b'cmunipack 2.1.15                                                      '\n",
      "117\n",
      "b'\\x01'\n",
      "b'\\x16'\n",
      "b'\\x15'\n",
      "b'/'\n",
      "b'\\x0c'\n",
      "b'\\x00'\n",
      "0.0\n",
      "65535.0\n",
      "2.3\n",
      "15.0\n",
      "3.0\n",
      "2.425815308113073\n",
      "0.5007539643793714\n",
      "4.0\n",
      "0.2\n",
      "1.0\n",
      "-1.0\n",
      "1.0\n",
      "0\n",
      "0\n",
      "0\n",
      "0\n",
      "0.0\n",
      "0.0\n",
      "0.0\n",
      "b'                                                                      '\n",
      "1.7976931348623157e+308\n",
      "1.7976931348623157e+308\n",
      "b'                                                                      '\n",
      "1.7976931348623157e+308\n",
      "1.7976931348623157e+308\n",
      "0.0\n",
      "0.0\n",
      "0.0\n",
      "0.0\n",
      "0.0\n",
      "0.0\n"
     ]
    }
   ],
   "source": [
    "from struct import *\n",
    "\n",
    "with open(init.matchedphotometrydir+'match002111.pht', 'rb') as fin:\n",
    "    bytes = fin.read()\n",
    "    struct = Struct('<28sllllld70sdd70sHccccccddddddddddddllllddd70sdd70sdddddddd')\n",
    "    #struct = Struct('<l')\n",
    "    print(struct.size, len(bytes))\n",
    "    result = struct.unpack(bytes[:576])\n",
    "    print('matched? {}, nr: {}'.format(result[30], result[33]))\n",
    "    for entry in result:\n",
    "        print(str(entry))\n",
    "    "
   ]
  },
  {
   "cell_type": "markdown",
   "metadata": {},
   "source": [
    "## Search around center coord"
   ]
  },
  {
   "cell_type": "code",
   "execution_count": 8,
   "metadata": {},
   "outputs": [
    {
     "name": "stdout",
     "output_type": "stream",
     "text": [
      "<SkyCoord (FK5: equinox=2000.0): (ra, dec) in deg\n",
      "    ( 270.6592258, -44.27128476)> <SkyCoord (FK5: equinox=2000.0): (ra, dec) in deg\n",
      "    ( 271.68944972, -43.44656093)>\n",
      "Creating vsx star catalog...\n",
      "Creating astropy Catalog with 528255 objects...\n"
     ]
    },
    {
     "ename": "ValueError",
     "evalue": "One of the inputs to search_around_sky is a scalar. search_around_sky is intended for use with array coordinates, not scalars.  Instead, use ``coord1.separation(coord2) < seplimit`` to find the coordinates near a scalar coordinate.",
     "output_type": "error",
     "traceback": [
      "\u001b[0;31m---------------------------------------------------------------------------\u001b[0m",
      "\u001b[0;31mValueError\u001b[0m                                Traceback (most recent call last)",
      "\u001b[0;32m<ipython-input-8-1416e6906951>\u001b[0m in \u001b[0;36m<module>\u001b[0;34m()\u001b[0m\n\u001b[1;32m      9\u001b[0m \u001b[0mprint\u001b[0m\u001b[0;34m(\u001b[0m\u001b[0mtopleft\u001b[0m\u001b[0;34m,\u001b[0m \u001b[0mbottomright\u001b[0m\u001b[0;34m)\u001b[0m\u001b[0;34m\u001b[0m\u001b[0m\n\u001b[1;32m     10\u001b[0m \u001b[0mcatalog\u001b[0m\u001b[0;34m,\u001b[0m \u001b[0mvsx_dict\u001b[0m \u001b[0;34m=\u001b[0m \u001b[0mdo_calibration\u001b[0m\u001b[0;34m.\u001b[0m\u001b[0mcreate_vsx_astropy_catalog\u001b[0m\u001b[0;34m(\u001b[0m\u001b[0;34m)\u001b[0m\u001b[0;34m\u001b[0m\u001b[0m\n\u001b[0;32m---> 11\u001b[0;31m \u001b[0midxc\u001b[0m\u001b[0;34m,\u001b[0m \u001b[0midxcatalog\u001b[0m\u001b[0;34m,\u001b[0m \u001b[0md2d\u001b[0m\u001b[0;34m,\u001b[0m \u001b[0md3d\u001b[0m \u001b[0;34m=\u001b[0m \u001b[0mcatalog\u001b[0m\u001b[0;34m.\u001b[0m\u001b[0msearch_around_sky\u001b[0m\u001b[0;34m(\u001b[0m\u001b[0mcoord\u001b[0m\u001b[0;34m,\u001b[0m \u001b[0;36m1\u001b[0m\u001b[0;34m*\u001b[0m\u001b[0mu\u001b[0m\u001b[0;34m.\u001b[0m\u001b[0mdeg\u001b[0m\u001b[0;34m)\u001b[0m\u001b[0;34m\u001b[0m\u001b[0m\n\u001b[0m\u001b[1;32m     12\u001b[0m \u001b[0;31m# just make the box yourself and filter catalog entries\u001b[0m\u001b[0;34m\u001b[0m\u001b[0;34m\u001b[0m\u001b[0m\n",
      "\u001b[0;32m/opt/conda/lib/python3.6/site-packages/astropy/coordinates/sky_coordinate.py\u001b[0m in \u001b[0;36msearch_around_sky\u001b[0;34m(self, searcharoundcoords, seplimit)\u001b[0m\n\u001b[1;32m   1213\u001b[0m \u001b[0;34m\u001b[0m\u001b[0m\n\u001b[1;32m   1214\u001b[0m         return search_around_sky(searcharoundcoords, self, seplimit,\n\u001b[0;32m-> 1215\u001b[0;31m                                  storekdtree='_kdtree_sky')\n\u001b[0m\u001b[1;32m   1216\u001b[0m \u001b[0;34m\u001b[0m\u001b[0m\n\u001b[1;32m   1217\u001b[0m     \u001b[0;32mdef\u001b[0m \u001b[0msearch_around_3d\u001b[0m\u001b[0;34m(\u001b[0m\u001b[0mself\u001b[0m\u001b[0;34m,\u001b[0m \u001b[0msearcharoundcoords\u001b[0m\u001b[0;34m,\u001b[0m \u001b[0mdistlimit\u001b[0m\u001b[0;34m)\u001b[0m\u001b[0;34m:\u001b[0m\u001b[0;34m\u001b[0m\u001b[0m\n",
      "\u001b[0;32m/opt/conda/lib/python3.6/site-packages/astropy/coordinates/matching.py\u001b[0m in \u001b[0;36msearch_around_sky\u001b[0;34m(coords1, coords2, seplimit, storekdtree)\u001b[0m\n\u001b[1;32m    328\u001b[0m \u001b[0;34m\u001b[0m\u001b[0m\n\u001b[1;32m    329\u001b[0m     \u001b[0;32mif\u001b[0m \u001b[0mcoords1\u001b[0m\u001b[0;34m.\u001b[0m\u001b[0misscalar\u001b[0m \u001b[0;32mor\u001b[0m \u001b[0mcoords2\u001b[0m\u001b[0;34m.\u001b[0m\u001b[0misscalar\u001b[0m\u001b[0;34m:\u001b[0m\u001b[0;34m\u001b[0m\u001b[0m\n\u001b[0;32m--> 330\u001b[0;31m         raise ValueError('One of the inputs to search_around_sky is a scalar. '\n\u001b[0m\u001b[1;32m    331\u001b[0m                          \u001b[0;34m'search_around_sky is intended for use with array '\u001b[0m\u001b[0;34m\u001b[0m\u001b[0m\n\u001b[1;32m    332\u001b[0m                          \u001b[0;34m'coordinates, not scalars.  Instead, use '\u001b[0m\u001b[0;34m\u001b[0m\u001b[0m\n",
      "\u001b[0;31mValueError\u001b[0m: One of the inputs to search_around_sky is a scalar. search_around_sky is intended for use with array coordinates, not scalars.  Instead, use ``coord1.separation(coord2) < seplimit`` to find the coordinates near a scalar coordinate."
     ]
    }
   ],
   "source": [
    "from astropy.coordinates import SkyCoord\n",
    "from astropy import units as u\n",
    "\n",
    "\n",
    "wcs_file = init.basedir+\"new-image.fits\"\n",
    "wcs = do_calibration.get_wcs(wcs_file)\n",
    "topleft = SkyCoord.from_pixel(0, 0, wcs)\n",
    "bottomright = SkyCoord.from_pixel(1365, 1365, wcs)\n",
    "print(topleft, bottomright)\n",
    "catalog, vsx_dict = do_calibration.create_vsx_astropy_catalog()\n",
    "idxc, idxcatalog, d2d, d3d = catalog.search_around_sky(coord, 1*u.deg)  \n",
    "# just make the box yourself and filter catalog entries"
   ]
  },
  {
   "cell_type": "code",
   "execution_count": 46,
   "metadata": {},
   "outputs": [
    {
     "name": "stdout",
     "output_type": "stream",
     "text": [
      "ralow:270.6592257985311 deg, rahigh:271.6894497196898 deg, declow:-44.271284764506596 deg, dechigh:-43.44656093232479 deg\n",
      "Nr total:528255, ralow:186822, rahigh:354698, declow:422142, dechigh:109033\n",
      "20\n"
     ]
    },
    {
     "ename": "ValueError",
     "evalue": "The truth value of an array with more than one element is ambiguous. Use a.any() or a.all()",
     "output_type": "error",
     "traceback": [
      "\u001b[0;31m---------------------------------------------------------------------------\u001b[0m",
      "\u001b[0;31mValueError\u001b[0m                                Traceback (most recent call last)",
      "\u001b[0;32m<ipython-input-46-d9ee1f99632f>\u001b[0m in \u001b[0;36m<module>\u001b[0;34m()\u001b[0m\n\u001b[1;32m     19\u001b[0m \u001b[0mprint\u001b[0m\u001b[0;34m(\u001b[0m\u001b[0mnp\u001b[0m\u001b[0;34m.\u001b[0m\u001b[0msum\u001b[0m\u001b[0;34m(\u001b[0m\u001b[0mtotal_ok\u001b[0m\u001b[0;34m)\u001b[0m\u001b[0;34m)\u001b[0m\u001b[0;34m\u001b[0m\u001b[0m\n\u001b[1;32m     20\u001b[0m \u001b[0;34m\u001b[0m\u001b[0m\n\u001b[0;32m---> 21\u001b[0;31m \u001b[0mramask\u001b[0m \u001b[0;34m=\u001b[0m \u001b[0;34m(\u001b[0m\u001b[0mnp\u001b[0m\u001b[0;34m.\u001b[0m\u001b[0many\u001b[0m\u001b[0;34m(\u001b[0m\u001b[0mcatalog\u001b[0m\u001b[0;34m.\u001b[0m\u001b[0mra\u001b[0m\u001b[0;34m.\u001b[0m\u001b[0mdeg\u001b[0m \u001b[0;34m>\u001b[0m \u001b[0mnpralow\u001b[0m \u001b[0;32mand\u001b[0m \u001b[0mnp\u001b[0m\u001b[0;34m.\u001b[0m\u001b[0many\u001b[0m\u001b[0;34m(\u001b[0m\u001b[0mcatalog\u001b[0m\u001b[0;34m.\u001b[0m\u001b[0mra\u001b[0m\u001b[0;34m.\u001b[0m\u001b[0mdeg\u001b[0m \u001b[0;34m<\u001b[0m \u001b[0mnprahigh\u001b[0m\u001b[0;34m)\u001b[0m\u001b[0;34m)\u001b[0m\u001b[0;34m)\u001b[0m\u001b[0;34m\u001b[0m\u001b[0m\n\u001b[0m\u001b[1;32m     22\u001b[0m \u001b[0mprint\u001b[0m\u001b[0;34m(\u001b[0m\u001b[0mnp\u001b[0m\u001b[0;34m.\u001b[0m\u001b[0msum\u001b[0m\u001b[0;34m(\u001b[0m\u001b[0mramask\u001b[0m\u001b[0;34m)\u001b[0m\u001b[0;34m)\u001b[0m\u001b[0;34m\u001b[0m\u001b[0m\n\u001b[1;32m     23\u001b[0m \u001b[0;34m\u001b[0m\u001b[0m\n",
      "\u001b[0;31mValueError\u001b[0m: The truth value of an array with more than one element is ambiguous. Use a.any() or a.all()"
     ]
    }
   ],
   "source": [
    "import numpy as np\n",
    "ralow=topleft.ra\n",
    "rahigh=bottomright.ra\n",
    "declow=topleft.dec\n",
    "dechigh=bottomright.dec\n",
    "print(\"ralow:{}, rahigh:{}, declow:{}, dechigh:{}\".format(ralow, rahigh, declow, dechigh))\n",
    "npralow = np.full(catalog.ra.shape, ralow)\n",
    "nprahigh = np.full(catalog.ra.shape, rahigh)\n",
    "npdeclow = np.full(catalog.ra.shape, declow)\n",
    "npdechigh = np.full(catalog.ra.shape, dechigh)\n",
    "bigger_ra_low = np.greater(catalog.ra.deg, npralow)\n",
    "smaller_ra_high = np.less(catalog.ra.deg, nprahigh)\n",
    "bigger_dec_low = np.greater(catalog.dec.deg, npdeclow)\n",
    "smaller_dec_high = np.less(catalog.dec.deg, npdechigh)\n",
    "ra_ok = np.logical_and(bigger_ra_low, smaller_ra_high)\n",
    "dec_ok = np.logical_and(bigger_dec_low, smaller_dec_high)\n",
    "total_ok = np.logical_and(ra_ok, dec_ok)\n",
    "print(\"Nr total:{}, ralow:{}, rahigh:{}, declow:{}, dechigh:{}\".format(len(catalog), np.sum(bigger_ra_low), np.sum(smaller_ra_high), np.sum(bigger_dec_low), np.sum(smaller_dec_high)))\n",
    "print(np.sum(total_ok))\n",
    "\n",
    "ramask = (np.any(catalog.ra.deg > npralow and np.any(catalog.ra.deg < nprahigh)))\n",
    "print(np.sum(ramask))\n",
    "\n"
   ]
  },
  {
   "cell_type": "code",
   "execution_count": null,
   "metadata": {},
   "outputs": [],
   "source": []
  }
 ],
 "metadata": {
  "kernelspec": {
   "display_name": "Python 3",
   "language": "python",
   "name": "python3"
  },
  "language_info": {
   "codemirror_mode": {
    "name": "ipython",
    "version": 3
   },
   "file_extension": ".py",
   "mimetype": "text/x-python",
   "name": "python",
   "nbconvert_exporter": "python",
   "pygments_lexer": "ipython3",
   "version": "3.6.5"
  }
 },
 "nbformat": 4,
 "nbformat_minor": 2
}
