{
 "cells": [
  {
   "cell_type": "raw",
   "metadata": {},
   "source": [
    "Byte-by-byte Description of file: vsx.dat\n",
    "--------------------------------------------------------------------------------\n",
    "   Bytes Format Units   Label    Explanations\n",
    "--------------------------------------------------------------------------------\n",
    "   1-  7  I7    ---     OID      Internal identifier, can be used to\n",
    "                                 link out to the VSX database (1)\n",
    "   9- 38  A30   ---     Name     Variable star identifier\n",
    "      40  I1    ---     V        [0,3] Variability flag (2)\n",
    "  42- 50  F9.5  deg     RAdeg    Right ascension (J2000)\n",
    "  52- 60  F9.5  deg     DEdeg    Declination (J2000)\n",
    "  62- 91  A30   ---     Type     Variability type, as in GCVS catalog\n",
    "      94  A1    ---   l_max      Limit flag on max\n",
    "  95-100  F6.3  mag     max      ? Magnitude at maximum, or amplitude\n",
    "     101  A1    ---   u_max      Uncertainty flag on max\n",
    " 102-107  A6    ---   n_max      Passband on max magnitude (4)\n",
    "     109  A1    ---   f_min      [(] '(' indicates an amplitude\n",
    "     110  A1    ---   l_min      Limit flag on min\n",
    " 111-116  F6.3  mag     min      ? Magnitude at minimum, or amplitude\n",
    "     117  A1    ---   u_min      Uncertainty flag on min\n",
    " 118-123  A6    ---   n_min      Passband on min magnitude (4)\n",
    " 125-136  F12.4 d       Epoch    ? Epoch of maximum or minimum (HJD)\n",
    "     137  A1    ---   u_Epoch    [:)] Uncertainty flag (:) on epoch\n",
    "     139  A1    ---   l_Period   [<>(] Limit flag on period (3)\n",
    " 140-155 F16.10 d       Period   ? Period of the variable in days\n",
    " 156-158  A3    ---   u_Period   [:)*/N2 ] Uncertainty flag on Period (3)\n",
    "--------------------------------------------------------------------------------"
   ]
  },
  {
   "cell_type": "code",
   "execution_count": 44,
   "metadata": {},
   "outputs": [],
   "source": [
    "import os\n",
    "import pickle\n",
    "import pandas as pd\n",
    "import numpy as np\n",
    "os.chdir('/home/jovyan/work')\n",
    "import do_calibration\n",
    "\n",
    "path = 'vsx.dat'\n",
    "\n",
    "#using pandas with a column specification   \n",
    "col_specification =[(0, 7), (8, 38), (39, 40), (41,50), (51,60), (61,91), (93,94), (94,100),(100, 101), (101,107), (108,109), (109,110), (110,116), (116,117), (117,123), (124,136), (136,137), (138,139), (139,155), (155,158)]\n",
    "data = pd.read_fwf(path, colspecs=col_specification, names=('OID', 'Name','V','RAdeg', 'DEdeg', 'Type', 'l_max', 'max', 'u_max', 'n_max', 'f_min', 'l_min', 'min', 'u_min', 'n_min', 'Epoch', 'u_Epoch', 'l_Period', 'Period', 'u_Period'), converters={'l_max': str})"
   ]
  },
  {
   "cell_type": "code",
   "execution_count": 54,
   "metadata": {},
   "outputs": [
    {
     "ename": "SyntaxError",
     "evalue": "can't assign to operator (<ipython-input-54-55407b13c771>, line 3)",
     "output_type": "error",
     "traceback": [
      "\u001b[0;36m  File \u001b[0;32m\"<ipython-input-54-55407b13c771>\"\u001b[0;36m, line \u001b[0;32m3\u001b[0m\n\u001b[0;31m    --NotebookApp.iopub_data_rate_limit=10000000\u001b[0m\n\u001b[0m                                                ^\u001b[0m\n\u001b[0;31mSyntaxError\u001b[0m\u001b[0;31m:\u001b[0m can't assign to operator\n"
     ]
    }
   ],
   "source": [
    "data.head()\n",
    "\n",
    "#--NotebookApp.iopub_data_rate_limit=10000000\n",
    "#__NotebookApp.rate_limit_window=10.0 \n",
    "\n",
    "ra_deg_np = data['RAdeg'].as_matrix()\n",
    "dec_deg_np = data['DEdeg'].as_matrix()\n",
    "metadata = []\n",
    "for index, row in data.iterrows():\n",
    "    metadata.append({'id': index, 'OID': row['OID'], 'Name': row['Name'], 'Type': row['Type'], 'l_Period': row['l_Period'], 'Period': row['Period'], 'u_Period': row['u_Period']})\n",
    "vsx_dict = { 'ra_deg_np': ra_deg_np, 'dec_deg_np': dec_deg_np, 'metadata': metadata}\n",
    "\n",
    "with open('test_catalog.bin', 'wb') as fp:\n",
    "    pickle.dump(vsx_dict, fp)\n",
    "\n",
    "with open('test_catalog.bin', 'rb') as fp:\n",
    "    read_dict = pickle.load(fp)\n",
    "\n",
    "print(read_dict)\n"
   ]
  },
  {
   "cell_type": "code",
   "execution_count": null,
   "metadata": {},
   "outputs": [],
   "source": []
  }
 ],
 "metadata": {
  "kernelspec": {
   "display_name": "Python 3",
   "language": "python",
   "name": "python3"
  },
  "language_info": {
   "codemirror_mode": {
    "name": "ipython",
    "version": 3
   },
   "file_extension": ".py",
   "mimetype": "text/x-python",
   "name": "python",
   "nbconvert_exporter": "python",
   "pygments_lexer": "ipython3",
   "version": "3.6.3"
  }
 },
 "nbformat": 4,
 "nbformat_minor": 2
}
