{
 "cells": [
  {
   "cell_type": "code",
   "execution_count": 139,
   "metadata": {},
   "outputs": [
    {
     "name": "stdout",
     "output_type": "stream",
     "text": [
      "The autoreload extension is already loaded. To reload it, use:\n",
      "  %reload_ext autoreload\n"
     ]
    }
   ],
   "source": [
    "import pandas as pd\n",
    "import numpy as np\n",
    "import os\n",
    "os.chdir('/home/jovyan/work')\n",
    "import init\n",
    "import struct\n",
    "from collections import namedtuple\n",
    "\n",
    "import importlib\n",
    "importlib.reload(do_calibration)\n",
    "\n",
    "%matplotlib inline\n",
    "plt.style.use('seaborn')\n",
    "pd.options.mode.chained_assignment = None\n",
    "%load_ext autoreload\n",
    "%autoreload 2"
   ]
  },
  {
   "cell_type": "code",
   "execution_count": 140,
   "metadata": {},
   "outputs": [],
   "source": [
    "fileContent = None\n",
    "with open(init.photometrydir+\"/phot000001.pht\", mode='rb') as file: # b is important -> binary\n",
    "    fileContent = file.read()"
   ]
  },
  {
   "cell_type": "code",
   "execution_count": 162,
   "metadata": {},
   "outputs": [
    {
     "name": "stdout",
     "output_type": "stream",
     "text": [
      "size of file 1920732\n",
      "header length is 576\n",
      "wcs data length: 0\n",
      "napertures: 12\n",
      "apertures (nr, radius): (1, 2.0, 2, 2.73, 3, 3.82, 4, 5.27, 5, 7.09, 6, 9.27, 7, 11.82, 8, 14.73, 9, 18.0, 10, 21.64, 11, 25.64, 12, 30.0)\n",
      "Number of stars: 10000\n",
      "[Star(id=1, ref_id=-1, x=709.1254209922034, y=705.5452846272434, skymed=755.470179324293, skysig=36.104551065020175, fwhm=4.016703185372335), Star(id=2, ref_id=-1, x=454.7935652188418, y=534.6577074787103, skymed=750.2409284458048, skysig=35.21220875968372, fwhm=2.8302691722922146), Star(id=3, ref_id=-1, x=626.8003122294699, y=297.7888830678162, skymed=749.2679414557952, skysig=33.6410706354276, fwhm=2.7902355743683946), Star(id=4, ref_id=-1, x=1273.6085991557884, y=690.7806748180285, skymed=758.0184933569424, skysig=38.53053069856531, fwhm=2.4541505942408244), Star(id=5, ref_id=-1, x=472.7846154141154, y=707.2148446684147, skymed=746.6244341470265, skysig=34.29871022893687, fwhm=2.6527978295904733), Star(id=6, ref_id=-1, x=1023.1941267060954, y=1224.1873963477994, skymed=761.5996982750955, skysig=42.65855328579887, fwhm=2.5163986980438615), Star(id=7, ref_id=-1, x=772.5593441595815, y=337.74272460417984, skymed=754.8827098492366, skysig=37.9655703583864, fwhm=2.6429654801091833), Star(id=8, ref_id=-1, x=1042.1146062416663, y=342.24766340856536, skymed=749.7643682588024, skysig=37.787031419419556, fwhm=2.581796862207626), Star(id=9, ref_id=-1, x=839.2469376186417, y=15.144274518890356, skymed=756.6192275533002, skysig=38.33183607928669, fwhm=2.610418437587363), Star(id=10, ref_id=-1, x=497.37030156032745, y=297.75578935155426, skymed=757.4737367562241, skysig=41.17599068363916, fwhm=2.5851111626485475)]\n",
      "480732\n"
     ]
    }
   ],
   "source": [
    "MAGIC_STRING = \"C-Munipack photometry file\\r\\n\" # length is 28\n",
    "print('size of file', len(fileContent))\n",
    "############################### HEADER ###############################################\n",
    "PhotHeader = namedtuple('PhotHeader', 'magic, revision, headerlen, width, height, jd, filter, exptime, ccdtemp, origin, year, mon, mday, hour, min, sec, \\\n",
    "                  range0, range1, gain, rnoise, fwhm_exp, fwhm_mean, fwhm_err, threshold, sharpness0, sharpness1, roundness0, roundness1, matched, match_rstars, \\\n",
    "                  match_istars, match_mstars, match_clip, offset0, offset1, objectdesig, objectra, objectdec, locationdesignation, \\\n",
    "                   locationlon, locationlat, trafoxx, trafoxy, trafox0, trafoyx, trafoyy, trafoy0 \\\n",
    "                  ')\n",
    "headerformat = \"<\"+str(len(MAGIC_STRING))+\"sxxxx4id70sdd70sH5Bxddddddddddddiiii3d70sdd70sdddddddd\"\n",
    "headerlength = struct.calcsize(headerformat)\n",
    "print(\"header length is\", headerlength)\n",
    "unp = struct.unpack(headerformat, fileContent[:headerlength])\n",
    "photheader = PhotHeader._make(unp)\n",
    "#for name, entry in phot._asdict().items():\n",
    "#    print(f\"{name}: {entry}\")\n",
    "############################### WCS ###############################################\n",
    "wcsformat= \"<i\" \n",
    "wcssize = struct.calcsize(wcsformat)\n",
    "wcsdatalength = struct.unpack(\"<i\", fileContent[headerlength:headerlength+wcssize])[0]\n",
    "wcslength = headerlength + wcssize + wcsdatalength\n",
    "print(f\"wcs data length: {wcsdatalength}\")\n",
    "############################### APERTURES ###############################################\n",
    "# typedef struct _CmpackPhtAperture\n",
    "# {\n",
    "# \tint id;\t\t\t\t\t\t\t\t/**< Aperture identifier */\n",
    "# \tdouble radius;\t\t\t\t\t\t/**< Radius in pixels */\n",
    "# } CmpackPhtAperture;\n",
    "\n",
    "apertureformat1 = \"<i\"\n",
    "ap1length = struct.calcsize(apertureformat1)\n",
    "start = wcslength\n",
    "napertures = struct.unpack(apertureformat1, fileContent[start:start+ap1length])[0]\n",
    "print(\"napertures:\", napertures)\n",
    "apertureformat2 = \"<\" + napertures * \"id\"\n",
    "ap2length = struct.calcsize(apertureformat2)\n",
    "start = start+ap1length\n",
    "apertures = struct.unpack(apertureformat2, fileContent[start:start+ap2length])\n",
    "start = start + ap2length\n",
    "print(\"apertures (nr, radius):\", apertures)\n",
    "\n",
    "############################### Stars ###############################################\n",
    "\n",
    "# read nr of stars\n",
    "nrstars = struct.unpack(\"i\", fileContent[start:start+4])[0]\n",
    "print(\"Number of stars:\", nrstars)\n",
    "start = start+4\n",
    "# read stars\n",
    "starformat = \"<2i5d\"\n",
    "starsize = struct.calcsize(starformat)\n",
    "stars = [] \n",
    "Star = namedtuple('Star', 'id, ref_id, x, y, skymed, skysig, fwhm')\n",
    "for star in range(nrstars):\n",
    "    stars.append(Star._make(struct.unpack(starformat, fileContent[start:start+starsize])))\n",
    "    start = start + starsize\n",
    "print(stars[0:10])\n",
    "\n",
    "############################## Data\n",
    "\n",
    "\n",
    "# apertureformat1 = \"<\"\n",
    "# wcslength = struct.calcsize(apertureformat1)\n",
    "# start = headerlength+wcslength+offset\n",
    "# print(wcslength)\n",
    "# struct.unpack(apertureformat1, fileContent[start:start+wcslength])\n",
    "\n",
    "# PhotWCS = namedtuple('PhotWCS', 'length, data')\n",
    "# wcsformat = \"<i\"\n",
    "# wcslength = struct.calcsize(wcsformat)\n",
    "# print(\"length is\", headerlength)\n",
    "# unp = struct.unpack(headerformat, fileContent[:headerlength])\n",
    "# phot = Phot._make(unp)\n",
    "\n",
    "############################## Table of measurements"
   ]
  },
  {
   "cell_type": "markdown",
   "metadata": {},
   "source": [
    "#"
   ]
  }
 ],
 "metadata": {
  "kernelspec": {
   "display_name": "Python 3",
   "language": "python",
   "name": "python3"
  },
  "language_info": {
   "codemirror_mode": {
    "name": "ipython",
    "version": 3
   },
   "file_extension": ".py",
   "mimetype": "text/x-python",
   "name": "python",
   "nbconvert_exporter": "python",
   "pygments_lexer": "ipython3",
   "version": "3.6.8"
  }
 },
 "nbformat": 4,
 "nbformat_minor": 2
}
