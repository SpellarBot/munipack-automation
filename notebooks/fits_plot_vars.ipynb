{
 "cells": [
  {
   "cell_type": "markdown",
   "metadata": {},
   "source": [
    "# Visualising FITS and star positions"
   ]
  },
  {
   "cell_type": "markdown",
   "metadata": {},
   "source": [
    "## Import modules"
   ]
  },
  {
   "cell_type": "code",
   "execution_count": null,
   "metadata": {},
   "outputs": [],
   "source": [
    "import requests, math, glob\n",
    "import pandas as pd\n",
    "import numpy as np\n",
    "from photutils import DAOStarFinder\n",
    "from astropy.stats import mad_std\n",
    "from astropy.io import fits\n",
    "from astropy.coordinates import SkyCoord\n",
    "from astropy.coordinates import match_coordinates_sky\n",
    "from astropy.wcs import WCS\n",
    "import astropy.units as u\n",
    "from astropy.coordinates import Angle\n",
    "import matplotlib.pyplot as plt\n",
    "from photutils import aperture_photometry, CircularAperture\n",
    "#from astroquery.simbad import Simbad\n",
    "from datetime import datetime\n",
    "import warnings\n",
    "warnings.filterwarnings('ignore')\n",
    "\n",
    "import os\n",
    "os.chdir('/home/jovyan/work')\n",
    "import init\n",
    "import reading\n",
    "import do_calibration\n",
    "\n",
    "import importlib\n",
    "importlib.reload(do_calibration)\n",
    "\n",
    "%matplotlib inline\n",
    "plt.style.use('seaborn')\n",
    "pd.options.mode.chained_assignment = None\n",
    "%load_ext autoreload\n",
    "%autoreload 2"
   ]
  },
  {
   "cell_type": "markdown",
   "metadata": {},
   "source": [
    "## Set reference frame, global vars"
   ]
  },
  {
   "cell_type": "code",
   "execution_count": null,
   "metadata": {},
   "outputs": [],
   "source": [
    "FITS_FILE=init.fitsdir+init.reference_frame\n",
    "FITS_FILE_FTS=init.convfitsdir+'kout000001.fts'\n",
    "wcs_file = init.basedir+\"new-image.fits\"\n",
    "PADDING = 200"
   ]
  },
  {
   "cell_type": "code",
   "execution_count": null,
   "metadata": {},
   "outputs": [],
   "source": [
    "def getWcs(wcs_file):\n",
    "    hdulist = fits.open(wcs_file)\n",
    "    data = hdulist[0].data.astype(float)\n",
    "    header = hdulist[0].header\n",
    "    wcs = WCS(header)\n",
    "    return wcs\n",
    "\n",
    "wcs = getWcs(wcs_file)\n",
    "\n",
    "#vsx_catalog, vsx_dict = do_calibration.create_vsx_astropy_catalog()\n",
    "candidates = do_calibration.get_candidates(0.5)\n",
    "#detections_catalog = do_calibration.create_detections_astropy_catalog(do_calibration.get_detected_stars())\n",
    "detections = do_calibration.get_star_descriptions()\n",
    "vsx_star_descr = do_calibration.get_vsx_in_field(detections, 0.01)\n"
   ]
  },
  {
   "cell_type": "markdown",
   "metadata": {},
   "source": [
    "## Get comparison Star"
   ]
  },
  {
   "cell_type": "code",
   "execution_count": null,
   "metadata": {},
   "outputs": [],
   "source": [
    "comparison_star_descr = do_calibration.get_star_descriptions([5])\n",
    "center_coord = SkyCoord.from_pixel(wcs._naxis1/2.0, wcs._naxis2/2.0, wcs)\n",
    "apass_star_descr = do_calibration.get_apass_star_descriptions(center_coord, Angle(0.67, unit=u.deg), row_limit=10000)\n",
    "print(len(apass_star_descr))"
   ]
  },
  {
   "cell_type": "code",
   "execution_count": null,
   "metadata": {},
   "outputs": [],
   "source": [
    "\n",
    "def set_local_id_label(star_descriptions):\n",
    "    for star_descr in star_descriptions:\n",
    "        star_descr.label = star_descr.local_id\n",
    "    return star_descriptions\n",
    "\n",
    "def set_aavso_id_label(star_descriptions):\n",
    "    for star_descr in star_descriptions:\n",
    "        star_descr.label = star_descr.aavso_id\n",
    "    return star_descriptions\n",
    "\n",
    "def set_custom_label(star_descriptions, label):\n",
    "    for index, star_descr in enumerate(star_descriptions):\n",
    "        star_descr.label = label if isinstance(label, list) else label[index]\n",
    "    return star_descriptions\n",
    "\n",
    "def add_pixels(results, offset):\n",
    "    for star in results:\n",
    "        star_coord = star.coords\n",
    "        xy = SkyCoord.to_pixel(star_coord, wcs=wcs, origin=0)\n",
    "        x = xy[0].item(0)\n",
    "        y = xy[1].item(0)\n",
    "        star.xpos = x + offset\n",
    "        star.ypos = y + offset\n",
    "    return results\n",
    "\n",
    "big_green = set_custom_label(comparison_star_descr, 'comp')\n",
    "small_red = set_custom_label(apass_star_descr, [o.vmag for o in apass_star_descr])\n",
    "\n",
    "big_green = add_pixels(big_green, PADDING)\n",
    "small_red = add_pixels(small_red, PADDING)\n",
    "print(\"nr of found result:\", len(big_green), len(small_red))"
   ]
  },
  {
   "cell_type": "markdown",
   "metadata": {},
   "source": [
    "## Draw the image"
   ]
  },
  {
   "cell_type": "code",
   "execution_count": null,
   "metadata": {},
   "outputs": [],
   "source": [
    "hdulist = fits.open(FITS_FILE)\n",
    "data = hdulist[0].data.astype(float)\n",
    "data = np.pad(data, (PADDING,PADDING), 'constant', constant_values=(100, 100))\n",
    "fig=plt.figure(figsize=(36, 32), dpi= 80, facecolor='w', edgecolor='k')\n",
    "big_green_positions = ([o.xpos for o in big_green],[o.ypos for o in big_green])\n",
    "small_red_positions = ([o.xpos for o in small_red],[o.ypos for o in small_red])\n",
    "big_green_apps = CircularAperture(big_green_positions, r=10.)    \n",
    "small_red_apps = CircularAperture(small_red_positions, r=5.)    \n",
    "# target_app = CircularAperture(target_xy, r=20.)    \n",
    "print('Here', data)\n",
    "plt.imshow(data, cmap='gray_r', origin='lower', vmin=0, vmax=2500)\n",
    "# print('Here')\n",
    "# big_green_apps.plot(color='green', lw=1.5, alpha=0.5)\n",
    "# print('Here')\n",
    "# small_red_apps.plot(color='red', lw=1.5, alpha=0.5)\n",
    "# print('Here')\n",
    "# # target_app.plot(color='blue', lw=1.5, alpha=0.5)\n",
    "# #to_plot = results\n",
    "# def annotate_it(results, offset1, offset2, size=16):\n",
    "#     for to_annotate in results:\n",
    "#         #star_name = to_annotate[1]['auid'] if to_annotate[1]['auid'] != \n",
    "#         plt.annotate('{}'.format(to_annotate.label),\n",
    "#             xy=(to_annotate.xpos, to_annotate.ypos), xycoords='data',\n",
    "#             xytext=(offset1, offset2), textcoords='offset points', size=size, arrowprops=dict(arrowstyle=\"->\"))\n",
    "# #annotate_it(big_green, -10, -20, size=10)    \n",
    "# print('Here')\n",
    "\n",
    "# #annotate_it(small_red, -10, 10, size=12)    \n",
    "# print('Here')\n"
   ]
  },
  {
   "cell_type": "markdown",
   "metadata": {},
   "source": [
    "## Save the image"
   ]
  },
  {
   "cell_type": "code",
   "execution_count": null,
   "metadata": {},
   "outputs": [],
   "source": [
    "fig.savefig(init.basedir+'found_vars_10k_upsilon_more_1k')\n",
    "plt.close(fig)"
   ]
  },
  {
   "cell_type": "code",
   "execution_count": null,
   "metadata": {},
   "outputs": [],
   "source": []
  }
 ],
 "metadata": {
  "kernelspec": {
   "display_name": "Python 3",
   "language": "python",
   "name": "python3"
  },
  "language_info": {
   "codemirror_mode": {
    "name": "ipython",
    "version": 3
   },
   "file_extension": ".py",
   "mimetype": "text/x-python",
   "name": "python",
   "nbconvert_exporter": "python",
   "pygments_lexer": "ipython3",
   "version": "3.6.3"
  }
 },
 "nbformat": 4,
 "nbformat_minor": 2
}
