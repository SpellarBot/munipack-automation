{
 "cells": [
  {
   "cell_type": "code",
   "execution_count": 23,
   "metadata": {},
   "outputs": [
    {
     "name": "stdout",
     "output_type": "stream",
     "text": [
      "{'worldpos_00001.txt': 0.14053659915653874, 'worldpos_00002.txt': 0.30311703780194027, 'worldpos_00003.txt': 0.3001691326473064, 'worldpos_00073.txt': 0.29639561568939266, 'worldpos_00137.txt': 0.4237732847426937, 'worldpos_00143.txt': 0.5428524631004195, 'worldpos_00264.txt': 0.20607126779994697, 'worldpos_00847.txt': 0.33395922218687657, 'worldpos_01045.txt': 0.5577889222955907, 'worldpos_01193.txt': 0.4979766664639094, 'worldpos_02675.txt': 0.588073041887668}\n"
     ]
    },
    {
     "name": "stderr",
     "output_type": "stream",
     "text": [
      "/opt/conda/lib/python3.6/site-packages/ipykernel_launcher.py:17: FutureWarning: sort(columns=....) is deprecated, use sort_values(by=.....)\n"
     ]
    },
    {
     "data": {
      "text/html": [
       "<div>\n",
       "<table border=\"1\" class=\"dataframe\">\n",
       "  <thead>\n",
       "    <tr style=\"text-align: right;\">\n",
       "      <th></th>\n",
       "      <th>filename</th>\n",
       "      <th>deg_separation</th>\n",
       "    </tr>\n",
       "  </thead>\n",
       "  <tbody>\n",
       "    <tr>\n",
       "      <th>0</th>\n",
       "      <td>worldpos_00001.txt</td>\n",
       "      <td>0.140537</td>\n",
       "    </tr>\n",
       "    <tr>\n",
       "      <th>6</th>\n",
       "      <td>worldpos_00264.txt</td>\n",
       "      <td>0.206071</td>\n",
       "    </tr>\n",
       "    <tr>\n",
       "      <th>3</th>\n",
       "      <td>worldpos_00073.txt</td>\n",
       "      <td>0.296396</td>\n",
       "    </tr>\n",
       "    <tr>\n",
       "      <th>2</th>\n",
       "      <td>worldpos_00003.txt</td>\n",
       "      <td>0.300169</td>\n",
       "    </tr>\n",
       "    <tr>\n",
       "      <th>1</th>\n",
       "      <td>worldpos_00002.txt</td>\n",
       "      <td>0.303117</td>\n",
       "    </tr>\n",
       "  </tbody>\n",
       "</table>\n",
       "</div>"
      ],
      "text/plain": [
       "             filename  deg_separation\n",
       "0  worldpos_00001.txt        0.140537\n",
       "6  worldpos_00264.txt        0.206071\n",
       "3  worldpos_00073.txt        0.296396\n",
       "2  worldpos_00003.txt        0.300169\n",
       "1  worldpos_00002.txt        0.303117"
      ]
     },
     "execution_count": 23,
     "metadata": {},
     "output_type": "execute_result"
    }
   ],
   "source": [
    "import init\n",
    "import pandas as pd\n",
    "import reading\n",
    "from astropy.coordinates import SkyCoord\n",
    "\n",
    "target_ra_deg = init.ra_deg\n",
    "target_dec_deg = init.dec_deg\n",
    "\n",
    "target = SkyCoord(target_ra_deg, target_dec_deg, unit='deg')\n",
    "result_dict = reading.read_world_positions(init.worldposdir)\n",
    "distances_dict = {}\n",
    "for key in result_dict:\n",
    "    distances_dict[key] = target.separation(SkyCoord(result_dict[key][0], result_dict[key][1], unit='deg')).degree\n",
    "print(distances_dict)\n",
    "#df = pd.DataFrame.from_dict(distances_dict, orient='index')\n",
    "df = pd.DataFrame(list(distances_dict.items()), columns=['filename', 'deg_separation'])\n",
    "df.sort(columns='deg_separation', inplace=True)\n",
    "df.head()"
   ]
  },
  {
   "cell_type": "code",
   "execution_count": 22,
   "metadata": {},
   "outputs": [
    {
     "data": {
      "text/plain": [
       "filename          worldpos_00001.txt\n",
       "deg_separation              0.140537\n",
       "dtype: object"
      ]
     },
     "execution_count": 22,
     "metadata": {},
     "output_type": "execute_result"
    }
   ],
   "source": [
    "df.min()"
   ]
  },
  {
   "cell_type": "code",
   "execution_count": 24,
   "metadata": {},
   "outputs": [
    {
     "name": "stdout",
     "output_type": "stream",
     "text": [
      "             filename  deg_separation\n",
      "0  worldpos_00001.txt        0.140537\n",
      "6  worldpos_00264.txt        0.206071\n",
      "3  worldpos_00073.txt        0.296396\n",
      "2  worldpos_00003.txt        0.300169\n",
      "1  worldpos_00002.txt        0.303117\n"
     ]
    }
   ],
   "source": [
    "print(df.head())"
   ]
  },
  {
   "cell_type": "code",
   "execution_count": 27,
   "metadata": {},
   "outputs": [
    {
     "data": {
      "text/html": [
       "<div>\n",
       "<table border=\"1\" class=\"dataframe\">\n",
       "  <thead>\n",
       "    <tr style=\"text-align: right;\">\n",
       "      <th></th>\n",
       "      <th>filename</th>\n",
       "      <th>deg_separation</th>\n",
       "    </tr>\n",
       "  </thead>\n",
       "  <tbody>\n",
       "    <tr>\n",
       "      <th>0</th>\n",
       "      <td>worldpos_00001.txt</td>\n",
       "      <td>0.140537</td>\n",
       "    </tr>\n",
       "    <tr>\n",
       "      <th>6</th>\n",
       "      <td>worldpos_00264.txt</td>\n",
       "      <td>0.206071</td>\n",
       "    </tr>\n",
       "    <tr>\n",
       "      <th>3</th>\n",
       "      <td>worldpos_00073.txt</td>\n",
       "      <td>0.296396</td>\n",
       "    </tr>\n",
       "  </tbody>\n",
       "</table>\n",
       "</div>"
      ],
      "text/plain": [
       "             filename  deg_separation\n",
       "0  worldpos_00001.txt        0.140537\n",
       "6  worldpos_00264.txt        0.206071\n",
       "3  worldpos_00073.txt        0.296396"
      ]
     },
     "execution_count": 27,
     "metadata": {},
     "output_type": "execute_result"
    }
   ],
   "source": [
    "df[:3]"
   ]
  },
  {
   "cell_type": "code",
   "execution_count": null,
   "metadata": {},
   "outputs": [],
   "source": []
  }
 ],
 "metadata": {
  "kernelspec": {
   "display_name": "Python 3",
   "language": "python",
   "name": "python3"
  },
  "language_info": {
   "codemirror_mode": {
    "name": "ipython",
    "version": 3
   },
   "file_extension": ".py",
   "mimetype": "text/x-python",
   "name": "python",
   "nbconvert_exporter": "python",
   "pygments_lexer": "ipython3",
   "version": "3.6.3"
  }
 },
 "nbformat": 4,
 "nbformat_minor": 2
}
